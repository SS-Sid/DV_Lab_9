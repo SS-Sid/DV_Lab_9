{
  "cells": [
    {
      "attachments": {},
      "cell_type": "markdown",
      "metadata": {},
      "source": [
        "### toolkit"
      ]
    },
    {
      "cell_type": "code",
      "execution_count": null,
      "metadata": {
        "colab": {
          "base_uri": "https://localhost:8080/"
        },
        "id": "VBpOPAT6tTO2",
        "outputId": "7a9e394f-bcca-4709-9e43-6dc3c9ce0a4a"
      },
      "outputs": [],
      "source": [
        "import requests\n",
        "import json\n",
        "\n",
        "import dash\n",
        "import dash_core_components as dcc\n",
        "import dash_html_components as html"
      ]
    },
    {
      "attachments": {},
      "cell_type": "markdown",
      "metadata": {},
      "source": [
        "### variables"
      ]
    },
    {
      "cell_type": "code",
      "execution_count": null,
      "metadata": {},
      "outputs": [],
      "source": [
        "# replace YOUR_API_KEY with your actual API key from Alpha Vantage\n",
        "your_api_key = '28FSC7H7SYW8WXGP'\n",
        "stock_symbol = 'AAPL'"
      ]
    },
    {
      "attachments": {},
      "cell_type": "markdown",
      "metadata": {},
      "source": [
        "### main"
      ]
    },
    {
      "cell_type": "code",
      "execution_count": null,
      "metadata": {
        "colab": {
          "base_uri": "https://localhost:8080/"
        },
        "id": "CO1tHtistbdt",
        "outputId": "70199e3f-4b9e-451a-aaa0-0cb2de414089"
      },
      "outputs": [],
      "source": [
        "response = requests.get(\n",
        "    f'https://www.alphavantage.co/query?function=TIME_SERIES_INTRADAY&symbol={stock_symbol}&interval=5min&apikey={your_api_key}'\n",
        ")\n",
        "\n",
        "if response.status_code == 200:\n",
        "    data = json.loads(response.content)\n",
        "else:\n",
        "    print('Error fetching data from Alpha Vantage API')\n",
        "\n",
        "\n",
        "\n",
        "app = dash.Dash(__name__)\n",
        "\n",
        "app.layout = html.Div(children=[\n",
        "    html.H1(children=f'{stock_symbol} Stock Market Data'),\n",
        "\n",
        "    dcc.Graph(\n",
        "        id='example-graph',\n",
        "        figure={\n",
        "            'data': [{\n",
        "                    'x': list(data['Time Series (5min)'].keys()), \n",
        "                    'y': [float(val['4. close']) for val in data['Time Series (5min)'].values()], \n",
        "                    'type': 'line', \n",
        "                    'name': stock_symbol\n",
        "            }],\n",
        "\n",
        "            'layout': {\n",
        "                'title': f'{stock_symbol} Stock Market Data'\n",
        "            }\n",
        "        }\n",
        "    )\n",
        "])\n",
        "\n",
        "\n",
        "if __name__ == '__main__':\n",
        "    app.run_server(debug=False)"
      ]
    }
  ],
  "metadata": {
    "colab": {
      "provenance": []
    },
    "kernelspec": {
      "display_name": "Python 3",
      "name": "python3"
    },
    "language_info": {
      "codemirror_mode": {
        "name": "ipython",
        "version": 3
      },
      "file_extension": ".py",
      "mimetype": "text/x-python",
      "name": "python",
      "nbconvert_exporter": "python",
      "pygments_lexer": "ipython3",
      "version": "3.11.1"
    }
  },
  "nbformat": 4,
  "nbformat_minor": 0
}
